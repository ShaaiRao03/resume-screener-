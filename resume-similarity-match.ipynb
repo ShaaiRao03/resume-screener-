{
 "cells": [
  {
   "cell_type": "code",
   "execution_count": 25,
   "metadata": {},
   "outputs": [],
   "source": [
    "import pandas as pd  \n",
    "import numpy as np "
   ]
  },
  {
   "cell_type": "code",
   "execution_count": 26,
   "metadata": {},
   "outputs": [
    {
     "name": "stderr",
     "output_type": "stream",
     "text": [
      "[nltk_data] Downloading package stopwords to\n",
      "[nltk_data]     C:\\Users\\User\\AppData\\Roaming\\nltk_data...\n",
      "[nltk_data]   Package stopwords is already up-to-date!\n"
     ]
    }
   ],
   "source": [
    "from sklearn.feature_extraction.text import TfidfVectorizer\n",
    "from sklearn.metrics.pairwise import cosine_similarity\n",
    "import PyPDF2\n",
    "\n",
    "import nltk\n",
    "import re \n",
    "from nltk.corpus import stopwords\n",
    "nltk.download('stopwords')\n",
    "stop = stopwords.words('english') "
   ]
  },
  {
   "cell_type": "code",
   "execution_count": 27,
   "metadata": {},
   "outputs": [],
   "source": [
    "import re\n",
    "def basic_preprocessing(text):\n",
    "  text=text.lower()\n",
    "  text=re.sub(r'[^\\w\\s]','',text) \n",
    "  text = re.sub(r'@\\w+', '', text)\n",
    "  text = re.sub(r'\\n', ' ' ,text)  \n",
    "  return text "
   ]
  },
  {
   "cell_type": "markdown",
   "metadata": {},
   "source": [
    "### Job Description Processing"
   ]
  },
  {
   "cell_type": "code",
   "execution_count": 28,
   "metadata": {},
   "outputs": [],
   "source": [
    "job_description = open(\"job_desc_test.txt\", \"r\")\n",
    "desc = job_description.read()\n",
    "cleaned_desc = basic_preprocessing(desc)\n",
    "remove_stopwords = lambda x: ' '.join([word for word in x.split() if word.lower() not in stop])\n",
    "cleaned_desc = remove_stopwords(cleaned_desc)"
   ]
  },
  {
   "cell_type": "code",
   "execution_count": 29,
   "metadata": {},
   "outputs": [
    {
     "data": {
      "text/plain": [
       "'seeking hr manager small companies role department 1 serving support employees throughout employment life cycle 100 remote responsibilities develop implement leadership development program managers team leads develop implement hr strategies initiatives aligned overall business strategy oversee manage recruitment selection process including job postings screening resumes conducting interviews manage employee onboarding offboarding processes ensuring smooth transition new hires departing employees administer employee benefits programs including health insurance retirement plans paid time'"
      ]
     },
     "execution_count": 29,
     "metadata": {},
     "output_type": "execute_result"
    }
   ],
   "source": [
    "cleaned_desc"
   ]
  },
  {
   "cell_type": "code",
   "execution_count": 30,
   "metadata": {},
   "outputs": [
    {
     "data": {
      "text/plain": [
       "592"
      ]
     },
     "execution_count": 30,
     "metadata": {},
     "output_type": "execute_result"
    }
   ],
   "source": [
    "len(cleaned_desc)"
   ]
  },
  {
   "cell_type": "markdown",
   "metadata": {},
   "source": [
    "### Resume Processing"
   ]
  },
  {
   "cell_type": "code",
   "execution_count": 31,
   "metadata": {},
   "outputs": [],
   "source": [
    "import PyPDF2\n",
    "import os\n",
    "\n",
    "def extract_text_from_pdf(pdf_path):\n",
    "    with open(pdf_path, 'rb') as file: \n",
    "        reader = PyPDF2.PdfReader(file)\n",
    "        text = ''\n",
    "        for page_num in range(len(reader.pages)):\n",
    "            page = reader.pages[page_num]\n",
    "            text += page.extract_text()\n",
    "    return text\n",
    "\n",
    "# Directory containing PDF files \n",
    "pdf_directory = './Sample-PDFs'\n",
    "\n",
    "# Extract text from each PDF file\n",
    "pdf_texts = {}\n",
    "for filename in os.listdir(pdf_directory):\n",
    "    if filename.endswith('.pdf'):\n",
    "        pdf_path = os.path.join(pdf_directory, filename)\n",
    "        text = extract_text_from_pdf(pdf_path)\n",
    "        pdf_texts[filename] = text"
   ]
  },
  {
   "cell_type": "code",
   "execution_count": 32,
   "metadata": {},
   "outputs": [
    {
     "data": {
      "text/html": [
       "<div>\n",
       "<style scoped>\n",
       "    .dataframe tbody tr th:only-of-type {\n",
       "        vertical-align: middle;\n",
       "    }\n",
       "\n",
       "    .dataframe tbody tr th {\n",
       "        vertical-align: top;\n",
       "    }\n",
       "\n",
       "    .dataframe thead th {\n",
       "        text-align: right;\n",
       "    }\n",
       "</style>\n",
       "<table border=\"1\" class=\"dataframe\">\n",
       "  <thead>\n",
       "    <tr style=\"text-align: right;\">\n",
       "      <th></th>\n",
       "      <th>File</th>\n",
       "      <th>Text</th>\n",
       "    </tr>\n",
       "  </thead>\n",
       "  <tbody>\n",
       "    <tr>\n",
       "      <th>0</th>\n",
       "      <td>ACC1.pdf</td>\n",
       "      <td>MORTGAGE BANKING FORECLOSURE SPECIALIST\\nSumma...</td>\n",
       "    </tr>\n",
       "    <tr>\n",
       "      <th>1</th>\n",
       "      <td>AGG1.pdf</td>\n",
       "      <td>PATIENT ACCESS REP\\nSummary\\nDependable Comput...</td>\n",
       "    </tr>\n",
       "    <tr>\n",
       "      <th>2</th>\n",
       "      <td>DES1.pdf</td>\n",
       "      <td>LEAD SENIOR GRAPHIC DESIGNER\\nSummary\\nManage ...</td>\n",
       "    </tr>\n",
       "    <tr>\n",
       "      <th>3</th>\n",
       "      <td>DES2.pdf</td>\n",
       "      <td>SOLUTION DESIGNER\\nCareer Overview\\nSolutions-...</td>\n",
       "    </tr>\n",
       "    <tr>\n",
       "      <th>4</th>\n",
       "      <td>HR1.pdf</td>\n",
       "      <td>HR PERSONNEL ASSISTANT\\nSummary\\nI am a U.S. c...</td>\n",
       "    </tr>\n",
       "    <tr>\n",
       "      <th>5</th>\n",
       "      <td>HR2.pdf</td>\n",
       "      <td>HR MANAGER\\nSummary\\nHuman Resources Manager w...</td>\n",
       "    </tr>\n",
       "    <tr>\n",
       "      <th>6</th>\n",
       "      <td>HR3.pdf</td>\n",
       "      <td>HR BENEFITS/LEAVE COORDINATOR\\nSummary\\n13 yea...</td>\n",
       "    </tr>\n",
       "  </tbody>\n",
       "</table>\n",
       "</div>"
      ],
      "text/plain": [
       "       File                                               Text\n",
       "0  ACC1.pdf  MORTGAGE BANKING FORECLOSURE SPECIALIST\\nSumma...\n",
       "1  AGG1.pdf  PATIENT ACCESS REP\\nSummary\\nDependable Comput...\n",
       "2  DES1.pdf  LEAD SENIOR GRAPHIC DESIGNER\\nSummary\\nManage ...\n",
       "3  DES2.pdf  SOLUTION DESIGNER\\nCareer Overview\\nSolutions-...\n",
       "4   HR1.pdf  HR PERSONNEL ASSISTANT\\nSummary\\nI am a U.S. c...\n",
       "5   HR2.pdf  HR MANAGER\\nSummary\\nHuman Resources Manager w...\n",
       "6   HR3.pdf  HR BENEFITS/LEAVE COORDINATOR\\nSummary\\n13 yea..."
      ]
     },
     "execution_count": 32,
     "metadata": {},
     "output_type": "execute_result"
    }
   ],
   "source": [
    "df = pd.DataFrame(list(pdf_texts.items()), columns=['File', 'Text'])\n",
    "df"
   ]
  },
  {
   "cell_type": "code",
   "execution_count": 33,
   "metadata": {},
   "outputs": [],
   "source": [
    "df['resume_cleaned'] = df['Text'].apply(basic_preprocessing)\n",
    "df['resume_cleaned'] = df['resume_cleaned'].apply(lambda x: ' '.join([word for word in x.split() if word not in (stop)]))"
   ]
  },
  {
   "cell_type": "code",
   "execution_count": 34,
   "metadata": {},
   "outputs": [
    {
     "data": {
      "text/html": [
       "<div>\n",
       "<style scoped>\n",
       "    .dataframe tbody tr th:only-of-type {\n",
       "        vertical-align: middle;\n",
       "    }\n",
       "\n",
       "    .dataframe tbody tr th {\n",
       "        vertical-align: top;\n",
       "    }\n",
       "\n",
       "    .dataframe thead th {\n",
       "        text-align: right;\n",
       "    }\n",
       "</style>\n",
       "<table border=\"1\" class=\"dataframe\">\n",
       "  <thead>\n",
       "    <tr style=\"text-align: right;\">\n",
       "      <th></th>\n",
       "      <th>File</th>\n",
       "      <th>Text</th>\n",
       "      <th>resume_cleaned</th>\n",
       "    </tr>\n",
       "  </thead>\n",
       "  <tbody>\n",
       "    <tr>\n",
       "      <th>0</th>\n",
       "      <td>ACC1.pdf</td>\n",
       "      <td>MORTGAGE BANKING FORECLOSURE SPECIALIST\\nSumma...</td>\n",
       "      <td>mortgage banking foreclosure specialist summar...</td>\n",
       "    </tr>\n",
       "    <tr>\n",
       "      <th>1</th>\n",
       "      <td>AGG1.pdf</td>\n",
       "      <td>PATIENT ACCESS REP\\nSummary\\nDependable Comput...</td>\n",
       "      <td>patient access rep summary dependable computer...</td>\n",
       "    </tr>\n",
       "    <tr>\n",
       "      <th>2</th>\n",
       "      <td>DES1.pdf</td>\n",
       "      <td>LEAD SENIOR GRAPHIC DESIGNER\\nSummary\\nManage ...</td>\n",
       "      <td>lead senior graphic designer summary manage mu...</td>\n",
       "    </tr>\n",
       "    <tr>\n",
       "      <th>3</th>\n",
       "      <td>DES2.pdf</td>\n",
       "      <td>SOLUTION DESIGNER\\nCareer Overview\\nSolutions-...</td>\n",
       "      <td>solution designer career overview solutionsori...</td>\n",
       "    </tr>\n",
       "    <tr>\n",
       "      <th>4</th>\n",
       "      <td>HR1.pdf</td>\n",
       "      <td>HR PERSONNEL ASSISTANT\\nSummary\\nI am a U.S. c...</td>\n",
       "      <td>hr personnel assistant summary us citizen auth...</td>\n",
       "    </tr>\n",
       "    <tr>\n",
       "      <th>5</th>\n",
       "      <td>HR2.pdf</td>\n",
       "      <td>HR MANAGER\\nSummary\\nHuman Resources Manager w...</td>\n",
       "      <td>hr manager summary human resources manager pra...</td>\n",
       "    </tr>\n",
       "    <tr>\n",
       "      <th>6</th>\n",
       "      <td>HR3.pdf</td>\n",
       "      <td>HR BENEFITS/LEAVE COORDINATOR\\nSummary\\n13 yea...</td>\n",
       "      <td>hr benefitsleave coordinator summary 13 years ...</td>\n",
       "    </tr>\n",
       "  </tbody>\n",
       "</table>\n",
       "</div>"
      ],
      "text/plain": [
       "       File                                               Text  \\\n",
       "0  ACC1.pdf  MORTGAGE BANKING FORECLOSURE SPECIALIST\\nSumma...   \n",
       "1  AGG1.pdf  PATIENT ACCESS REP\\nSummary\\nDependable Comput...   \n",
       "2  DES1.pdf  LEAD SENIOR GRAPHIC DESIGNER\\nSummary\\nManage ...   \n",
       "3  DES2.pdf  SOLUTION DESIGNER\\nCareer Overview\\nSolutions-...   \n",
       "4   HR1.pdf  HR PERSONNEL ASSISTANT\\nSummary\\nI am a U.S. c...   \n",
       "5   HR2.pdf  HR MANAGER\\nSummary\\nHuman Resources Manager w...   \n",
       "6   HR3.pdf  HR BENEFITS/LEAVE COORDINATOR\\nSummary\\n13 yea...   \n",
       "\n",
       "                                      resume_cleaned  \n",
       "0  mortgage banking foreclosure specialist summar...  \n",
       "1  patient access rep summary dependable computer...  \n",
       "2  lead senior graphic designer summary manage mu...  \n",
       "3  solution designer career overview solutionsori...  \n",
       "4  hr personnel assistant summary us citizen auth...  \n",
       "5  hr manager summary human resources manager pra...  \n",
       "6  hr benefitsleave coordinator summary 13 years ...  "
      ]
     },
     "execution_count": 34,
     "metadata": {},
     "output_type": "execute_result"
    }
   ],
   "source": [
    "df"
   ]
  },
  {
   "cell_type": "markdown",
   "metadata": {},
   "source": [
    "### Using TFIDF for Cosine Similarity"
   ]
  },
  {
   "cell_type": "code",
   "execution_count": 35,
   "metadata": {},
   "outputs": [
    {
     "data": {
      "text/html": [
       "<style>#sk-container-id-2 {color: black;}#sk-container-id-2 pre{padding: 0;}#sk-container-id-2 div.sk-toggleable {background-color: white;}#sk-container-id-2 label.sk-toggleable__label {cursor: pointer;display: block;width: 100%;margin-bottom: 0;padding: 0.3em;box-sizing: border-box;text-align: center;}#sk-container-id-2 label.sk-toggleable__label-arrow:before {content: \"▸\";float: left;margin-right: 0.25em;color: #696969;}#sk-container-id-2 label.sk-toggleable__label-arrow:hover:before {color: black;}#sk-container-id-2 div.sk-estimator:hover label.sk-toggleable__label-arrow:before {color: black;}#sk-container-id-2 div.sk-toggleable__content {max-height: 0;max-width: 0;overflow: hidden;text-align: left;background-color: #f0f8ff;}#sk-container-id-2 div.sk-toggleable__content pre {margin: 0.2em;color: black;border-radius: 0.25em;background-color: #f0f8ff;}#sk-container-id-2 input.sk-toggleable__control:checked~div.sk-toggleable__content {max-height: 200px;max-width: 100%;overflow: auto;}#sk-container-id-2 input.sk-toggleable__control:checked~label.sk-toggleable__label-arrow:before {content: \"▾\";}#sk-container-id-2 div.sk-estimator input.sk-toggleable__control:checked~label.sk-toggleable__label {background-color: #d4ebff;}#sk-container-id-2 div.sk-label input.sk-toggleable__control:checked~label.sk-toggleable__label {background-color: #d4ebff;}#sk-container-id-2 input.sk-hidden--visually {border: 0;clip: rect(1px 1px 1px 1px);clip: rect(1px, 1px, 1px, 1px);height: 1px;margin: -1px;overflow: hidden;padding: 0;position: absolute;width: 1px;}#sk-container-id-2 div.sk-estimator {font-family: monospace;background-color: #f0f8ff;border: 1px dotted black;border-radius: 0.25em;box-sizing: border-box;margin-bottom: 0.5em;}#sk-container-id-2 div.sk-estimator:hover {background-color: #d4ebff;}#sk-container-id-2 div.sk-parallel-item::after {content: \"\";width: 100%;border-bottom: 1px solid gray;flex-grow: 1;}#sk-container-id-2 div.sk-label:hover label.sk-toggleable__label {background-color: #d4ebff;}#sk-container-id-2 div.sk-serial::before {content: \"\";position: absolute;border-left: 1px solid gray;box-sizing: border-box;top: 0;bottom: 0;left: 50%;z-index: 0;}#sk-container-id-2 div.sk-serial {display: flex;flex-direction: column;align-items: center;background-color: white;padding-right: 0.2em;padding-left: 0.2em;position: relative;}#sk-container-id-2 div.sk-item {position: relative;z-index: 1;}#sk-container-id-2 div.sk-parallel {display: flex;align-items: stretch;justify-content: center;background-color: white;position: relative;}#sk-container-id-2 div.sk-item::before, #sk-container-id-2 div.sk-parallel-item::before {content: \"\";position: absolute;border-left: 1px solid gray;box-sizing: border-box;top: 0;bottom: 0;left: 50%;z-index: -1;}#sk-container-id-2 div.sk-parallel-item {display: flex;flex-direction: column;z-index: 1;position: relative;background-color: white;}#sk-container-id-2 div.sk-parallel-item:first-child::after {align-self: flex-end;width: 50%;}#sk-container-id-2 div.sk-parallel-item:last-child::after {align-self: flex-start;width: 50%;}#sk-container-id-2 div.sk-parallel-item:only-child::after {width: 0;}#sk-container-id-2 div.sk-dashed-wrapped {border: 1px dashed gray;margin: 0 0.4em 0.5em 0.4em;box-sizing: border-box;padding-bottom: 0.4em;background-color: white;}#sk-container-id-2 div.sk-label label {font-family: monospace;font-weight: bold;display: inline-block;line-height: 1.2em;}#sk-container-id-2 div.sk-label-container {text-align: center;}#sk-container-id-2 div.sk-container {/* jupyter's `normalize.less` sets `[hidden] { display: none; }` but bootstrap.min.css set `[hidden] { display: none !important; }` so we also need the `!important` here to be able to override the default hidden behavior on the sphinx rendered scikit-learn.org. See: https://github.com/scikit-learn/scikit-learn/issues/21755 */display: inline-block !important;position: relative;}#sk-container-id-2 div.sk-text-repr-fallback {display: none;}</style><div id=\"sk-container-id-2\" class=\"sk-top-container\"><div class=\"sk-text-repr-fallback\"><pre>TfidfVectorizer()</pre><b>In a Jupyter environment, please rerun this cell to show the HTML representation or trust the notebook. <br />On GitHub, the HTML representation is unable to render, please try loading this page with nbviewer.org.</b></div><div class=\"sk-container\" hidden><div class=\"sk-item\"><div class=\"sk-estimator sk-toggleable\"><input class=\"sk-toggleable__control sk-hidden--visually\" id=\"sk-estimator-id-2\" type=\"checkbox\" checked><label for=\"sk-estimator-id-2\" class=\"sk-toggleable__label sk-toggleable__label-arrow\">TfidfVectorizer</label><div class=\"sk-toggleable__content\"><pre>TfidfVectorizer()</pre></div></div></div></div></div>"
      ],
      "text/plain": [
       "TfidfVectorizer()"
      ]
     },
     "execution_count": 35,
     "metadata": {},
     "output_type": "execute_result"
    }
   ],
   "source": [
    "#Obtaining the vocabulary based on the job description\n",
    "vectorizer = TfidfVectorizer()\n",
    "vectorizer.fit([cleaned_desc])  "
   ]
  },
  {
   "cell_type": "code",
   "execution_count": 36,
   "metadata": {},
   "outputs": [],
   "source": [
    "file_val_pair = {} \n",
    "\n",
    "X = vectorizer.transform([cleaned_desc])\n",
    "\n",
    "for index, row in df.iterrows():\n",
    "    file_name = row['File'] \n",
    "    text = row['resume_cleaned']\n",
    "    Y = vectorizer.transform([text])\n",
    "    file_val_pair[file_name] = round(cosine_similarity(X,Y)[0][0]*100,2)"
   ]
  },
  {
   "cell_type": "code",
   "execution_count": 37,
   "metadata": {},
   "outputs": [
    {
     "data": {
      "text/plain": [
       "{'ACC1.pdf': 32.74,\n",
       " 'AGG1.pdf': 31.95,\n",
       " 'DES1.pdf': 29.59,\n",
       " 'DES2.pdf': 34.84,\n",
       " 'HR1.pdf': 35.66,\n",
       " 'HR2.pdf': 58.24,\n",
       " 'HR3.pdf': 48.19}"
      ]
     },
     "execution_count": 37,
     "metadata": {},
     "output_type": "execute_result"
    }
   ],
   "source": [
    "file_val_pair"
   ]
  },
  {
   "cell_type": "code",
   "execution_count": 38,
   "metadata": {},
   "outputs": [
    {
     "name": "stdout",
     "output_type": "stream",
     "text": [
      "{'HR2.pdf': 58.24, 'HR3.pdf': 48.19, 'HR1.pdf': 35.66, 'DES2.pdf': 34.84, 'ACC1.pdf': 32.74, 'AGG1.pdf': 31.95, 'DES1.pdf': 29.59}\n"
     ]
    }
   ],
   "source": [
    "sorted_file_val_pair = dict(sorted(file_val_pair.items(), key=lambda item: item[1], reverse=True))\n",
    "print(sorted_file_val_pair)  "
   ]
  },
  {
   "cell_type": "markdown",
   "metadata": {},
   "source": [
    "### Using BERT transformer for Cosine Similarity"
   ]
  },
  {
   "cell_type": "code",
   "execution_count": 39,
   "metadata": {},
   "outputs": [],
   "source": [
    "from transformers import AutoTokenizer, AutoModel\n",
    "import torch \n",
    "\n",
    "def bert_vectorizer (cleaned_desc):\n",
    "    # Loading the pre-trained model and tokenizer\n",
    "    model_name = \"distilbert-base-uncased\"\n",
    "    tokenizer = AutoTokenizer.from_pretrained(model_name)\n",
    "    model = AutoModel.from_pretrained(model_name)\n",
    "\n",
    "\n",
    "    text = cleaned_desc \n",
    "\n",
    "    inputs = tokenizer(text, padding=True, max_length=512, truncation=True, return_tensors=\"pt\")\n",
    "\n",
    "    with torch.no_grad():\n",
    "        outputs = model(**inputs)\n",
    "\n",
    "    embeddings = outputs.last_hidden_state\n",
    "\n",
    "    # need to reshape the embeddings for cosine similarity , .squeeze() is to remove batch dimension \n",
    "    reshaped_embeddings = embeddings.squeeze(0)  \n",
    "\n",
    "    return reshaped_embeddings.numpy()"
   ]
  },
  {
   "cell_type": "code",
   "execution_count": 40,
   "metadata": {},
   "outputs": [
    {
     "name": "stdout",
     "output_type": "stream",
     "text": [
      "{'ACC1.pdf': 88.41, 'AGG1.pdf': 87.66, 'DES1.pdf': 87.02, 'DES2.pdf': 89.87, 'HR1.pdf': 89.17, 'HR2.pdf': 91.5, 'HR3.pdf': 90.83}\n"
     ]
    }
   ],
   "source": [
    "file_bert = {} \n",
    "\n",
    "X = bert_vectorizer(cleaned_desc)\n",
    "\n",
    "for index, row in df.iterrows():\n",
    "    file_name = row['File']\n",
    "    text = row['resume_cleaned']\n",
    "     \n",
    "    Y = bert_vectorizer(text) \n",
    "     \n",
    "    file_bert[file_name] = round(cosine_similarity(X,Y)[0][0]*100,2) \n",
    "\n",
    "\n",
    "print(file_bert)   \n"
   ]
  },
  {
   "cell_type": "code",
   "execution_count": 41,
   "metadata": {},
   "outputs": [
    {
     "name": "stdout",
     "output_type": "stream",
     "text": [
      "{'HR2.pdf': 91.5, 'HR3.pdf': 90.83, 'DES2.pdf': 89.87, 'HR1.pdf': 89.17, 'ACC1.pdf': 88.41, 'AGG1.pdf': 87.66, 'DES1.pdf': 87.02}\n"
     ]
    }
   ],
   "source": [
    "sorted_file_val_pair_bert = dict(sorted(file_bert.items(), key=lambda item: item[1], reverse=True))\n",
    "print(sorted_file_val_pair_bert)   "
   ]
  },
  {
   "cell_type": "markdown",
   "metadata": {},
   "source": [
    "Observations: \n",
    "\n",
    "- Bert\n",
    "{'HR2.pdf': 91.5, 'HR3.pdf': 90.83, 'DES2.pdf': 89.87, 'HR1.pdf': 89.17, 'ACC1.pdf': 88.41, 'AGG1.pdf': 87.66, 'DES1.pdf': 87.02}\n",
    "\n",
    "- TFIDF\n",
    "{'HR2.pdf': 58.24, 'HR3.pdf': 48.19, 'HR1.pdf': 35.66, 'DES2.pdf': 34.84, 'ACC1.pdf': 32.74, 'AGG1.pdf': 31.95, 'DES1.pdf': 29.59}\n"
   ]
  }
 ],
 "metadata": {
  "kernelspec": {
   "display_name": "venv",
   "language": "python",
   "name": "python3"
  },
  "language_info": {
   "codemirror_mode": {
    "name": "ipython",
    "version": 3
   },
   "file_extension": ".py",
   "mimetype": "text/x-python",
   "name": "python",
   "nbconvert_exporter": "python",
   "pygments_lexer": "ipython3",
   "version": "3.11.4"
  }
 },
 "nbformat": 4,
 "nbformat_minor": 2
}
